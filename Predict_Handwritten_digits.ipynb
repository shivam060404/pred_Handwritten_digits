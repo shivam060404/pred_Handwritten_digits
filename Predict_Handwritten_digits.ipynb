{
  "nbformat": 4,
  "nbformat_minor": 0,
  "metadata": {
    "colab": {
      "provenance": [],
      "authorship_tag": "ABX9TyMjAJwYFH/jBZ6J3oUwmtvJ",
      "include_colab_link": true
    },
    "kernelspec": {
      "name": "python3",
      "display_name": "Python 3"
    },
    "language_info": {
      "name": "python"
    }
  },
  "cells": [
    {
      "cell_type": "markdown",
      "metadata": {
        "id": "view-in-github",
        "colab_type": "text"
      },
      "source": [
        "<a href=\"https://colab.research.google.com/github/shivam060404/pred_Handwritten_digits/blob/main/Predict_Handwritten_digits.ipynb\" target=\"_parent\"><img src=\"https://colab.research.google.com/assets/colab-badge.svg\" alt=\"Open In Colab\"/></a>"
      ]
    },
    {
      "cell_type": "markdown",
      "source": [
        "               ** Building a Multiclass Classification Neural Network Model**\n",
        "#                 *Predicting or Recognizing Handwritten Digits*\n",
        "\n",
        "---\n",
        "\n",
        "\n",
        "---\n",
        "\n",
        "\n"
      ],
      "metadata": {
        "id": "d-BVKSxWNq1M"
      }
    },
    {
      "cell_type": "markdown",
      "source": [
        "**Importing the Libraries**"
      ],
      "metadata": {
        "id": "Y6bQCtYqKDVz"
      }
    },
    {
      "cell_type": "code",
      "execution_count": 83,
      "metadata": {
        "id": "0md8MDsbwYOD"
      },
      "outputs": [],
      "source": [
        "import warnings\n",
        "warnings.filterwarnings('ignore')\n",
        "\n",
        "import tensorflow as tf\n",
        "import numpy as np\n",
        "import pandas as pd\n",
        "import matplotlib.pyplot as plt\n",
        "%matplotlib inline"
      ]
    },
    {
      "cell_type": "code",
      "source": [
        "import tensorflow_datasets as tfds"
      ],
      "metadata": {
        "id": "HgtIRjkhxOil"
      },
      "execution_count": 84,
      "outputs": []
    },
    {
      "cell_type": "markdown",
      "source": [
        "**Creating input pipeline using tf.data API with keras**"
      ],
      "metadata": {
        "id": "NojJCrjcKZi0"
      }
    },
    {
      "cell_type": "code",
      "source": [
        "(ds_train,ds_test) , ds_info = tfds.load(\n",
        "    'mnist',\n",
        "    split=[\"train\",\"test\"],\n",
        "    shuffle_files=True,\n",
        "    as_supervised=True,\n",
        "    with_info=True,\n",
        "\n",
        ")"
      ],
      "metadata": {
        "id": "8vw-BZz7xz89"
      },
      "execution_count": 85,
      "outputs": []
    },
    {
      "cell_type": "code",
      "source": [
        "ds_train.cardinality().numpy(),ds_test.cardinality().numpy()"
      ],
      "metadata": {
        "colab": {
          "base_uri": "https://localhost:8080/"
        },
        "id": "spUvhcLOyhf6",
        "outputId": "185a0c61-e69e-41ea-df08-697926e1cd8e"
      },
      "execution_count": 86,
      "outputs": [
        {
          "output_type": "execute_result",
          "data": {
            "text/plain": [
              "(60000, 10000)"
            ]
          },
          "metadata": {},
          "execution_count": 86
        }
      ]
    },
    {
      "cell_type": "code",
      "source": [
        "ds_info"
      ],
      "metadata": {
        "colab": {
          "base_uri": "https://localhost:8080/"
        },
        "id": "Y0Wduellyy_k",
        "outputId": "c18c4db5-6543-4990-b935-67b03a8ff9a7"
      },
      "execution_count": 87,
      "outputs": [
        {
          "output_type": "execute_result",
          "data": {
            "text/plain": [
              "tfds.core.DatasetInfo(\n",
              "    name='mnist',\n",
              "    full_name='mnist/3.0.1',\n",
              "    description=\"\"\"\n",
              "    The MNIST database of handwritten digits.\n",
              "    \"\"\",\n",
              "    homepage='http://yann.lecun.com/exdb/mnist/',\n",
              "    data_dir='/root/tensorflow_datasets/mnist/3.0.1',\n",
              "    file_format=tfrecord,\n",
              "    download_size=11.06 MiB,\n",
              "    dataset_size=21.00 MiB,\n",
              "    features=FeaturesDict({\n",
              "        'image': Image(shape=(28, 28, 1), dtype=uint8),\n",
              "        'label': ClassLabel(shape=(), dtype=int64, num_classes=10),\n",
              "    }),\n",
              "    supervised_keys=('image', 'label'),\n",
              "    disable_shuffling=False,\n",
              "    splits={\n",
              "        'test': <SplitInfo num_examples=10000, num_shards=1>,\n",
              "        'train': <SplitInfo num_examples=60000, num_shards=1>,\n",
              "    },\n",
              "    citation=\"\"\"@article{lecun2010mnist,\n",
              "      title={MNIST handwritten digit database},\n",
              "      author={LeCun, Yann and Cortes, Corinna and Burges, CJ},\n",
              "      journal={ATT Labs [Online]. Available: http://yann.lecun.com/exdb/mnist},\n",
              "      volume={2},\n",
              "      year={2010}\n",
              "    }\"\"\",\n",
              ")"
            ]
          },
          "metadata": {},
          "execution_count": 87
        }
      ]
    },
    {
      "cell_type": "code",
      "source": [
        "ds_info.features[\"label\"].names"
      ],
      "metadata": {
        "colab": {
          "base_uri": "https://localhost:8080/"
        },
        "id": "6SqvYPG2zAm6",
        "outputId": "df767c31-5962-432e-a39c-b9d50176aab8"
      },
      "execution_count": 88,
      "outputs": [
        {
          "output_type": "execute_result",
          "data": {
            "text/plain": [
              "['0', '1', '2', '3', '4', '5', '6', '7', '8', '9']"
            ]
          },
          "metadata": {},
          "execution_count": 88
        }
      ]
    },
    {
      "cell_type": "code",
      "source": [
        "tfds.show_examples(ds_train,ds_info,rows=1,cols=2)"
      ],
      "metadata": {
        "colab": {
          "base_uri": "https://localhost:8080/",
          "height": 493
        },
        "id": "s7LnNV41zOog",
        "outputId": "4cfc28d1-a764-4892-f838-fc002e2d7eaa"
      },
      "execution_count": 89,
      "outputs": [
        {
          "output_type": "display_data",
          "data": {
            "text/plain": [
              "<Figure size 600x300 with 2 Axes>"
            ],
            "image/png": "[encoded data removed]"
          },
          "metadata": {}
        },
        {
          "output_type": "execute_result",
          "data": {
            "text/plain": [
              "<Figure size 600x300 with 2 Axes>"
            ],
            "image/png": "[encoded data removed]"
          },
          "metadata": {},
          "execution_count": 89
        }
      ]
    },
    {
      "cell_type": "markdown",
      "source": [
        "Normalizing the datapoints within the scale of 0 to 1 pixel value(optimization)"
      ],
      "metadata": {
        "id": "r_UZXQMjMqqI"
      }
    },
    {
      "cell_type": "code",
      "source": [
        "def normalize_img(image,label):\n",
        "    \"\"\"Normalizes images:'uint8'->'float32'\"\"\"\n",
        "    return tf.cast(image,tf.float32)/255.,label"
      ],
      "metadata": {
        "id": "luPwwIHrzhJ0"
      },
      "execution_count": 90,
      "outputs": []
    },
    {
      "cell_type": "code",
      "source": [
        "ds_train = ds_train.map(normalize_img,num_parallel_calls=tf.data.AUTOTUNE)\n",
        "ds_train=ds_train.cache()\n",
        "ds_train = ds_train.shuffle(ds_info.splits['train'].num_examples)\n",
        "ds_train = ds_train.batch(128)\n",
        "ds_train = ds_train.prefetch(tf.data.AUTOTUNE)"
      ],
      "metadata": {
        "id": "vrN5_XKQDbgr"
      },
      "execution_count": 91,
      "outputs": []
    },
    {
      "cell_type": "markdown",
      "source": [
        "**Build an Evaluation Pipeline**"
      ],
      "metadata": {
        "id": "a9cmFl-ZK_UG"
      }
    },
    {
      "cell_type": "code",
      "source": [
        "ds_test = ds_test.map(normalize_img,num_parallel_calls=tf.data.AUTOTUNE)\n",
        "ds_test = ds_test.batch(128)\n",
        "ds_test = ds_test.cache()\n",
        "ds_test = ds_test.prefetch(tf.data.AUTOTUNE)"
      ],
      "metadata": {
        "id": "hQ3-ft4PD9jF"
      },
      "execution_count": 92,
      "outputs": []
    },
    {
      "cell_type": "markdown",
      "source": [
        "**Creating a neural network**"
      ],
      "metadata": {
        "id": "_5bo_R8DLOaO"
      }
    },
    {
      "cell_type": "code",
      "source": [
        "from tensorflow.keras.models import Sequential\n",
        "from tensorflow.keras.layers import Flatten,Dense,Activation\n",
        "\n"
      ],
      "metadata": {
        "id": "bbICU8NW3S_K"
      },
      "execution_count": 93,
      "outputs": []
    },
    {
      "cell_type": "code",
      "source": [
        "model=Sequential([\n",
        "    Flatten(input_shape=(28,28,1)),\n",
        "    Dense(512,activation='sigmoid',name = 'Hidden_layer1'),\n",
        "    Dense(128,activation='sigmoid',name = 'Hidden_layer2'),\n",
        "    Dense(10,activation='softmax',name = 'Output_layer')\n",
        "\n",
        "])"
      ],
      "metadata": {
        "id": "N2zXpiiT4CRZ"
      },
      "execution_count": 94,
      "outputs": []
    },
    {
      "cell_type": "code",
      "source": [
        "model.summary()"
      ],
      "metadata": {
        "colab": {
          "base_uri": "https://localhost:8080/"
        },
        "id": "OP_jKFSs5f8i",
        "outputId": "4fcdeecb-7353-4a2b-b0dd-273baceb235a"
      },
      "execution_count": 95,
      "outputs": [
        {
          "output_type": "stream",
          "name": "stdout",
          "text": [
            "Model: \"sequential_15\"\n",
            "_________________________________________________________________\n",
            " Layer (type)                Output Shape              Param #   \n",
            "=================================================================\n",
            " flatten_15 (Flatten)        (None, 784)               0         \n",
            "                                                                 \n",
            " Hidden_layer1 (Dense)       (None, 512)               401920    \n",
            "                                                                 \n",
            " Hidden_layer2 (Dense)       (None, 128)               65664     \n",
            "                                                                 \n",
            " Output_layer (Dense)        (None, 10)                1290      \n",
            "                                                                 \n",
            "=================================================================\n",
            "Total params: 468874 (1.79 MB)\n",
            "Trainable params: 468874 (1.79 MB)\n",
            "Non-trainable params: 0 (0.00 Byte)\n",
            "_________________________________________________________________\n"
          ]
        }
      ]
    },
    {
      "cell_type": "markdown",
      "source": [
        "**Compiling the Neural network**"
      ],
      "metadata": {
        "id": "r2sbIwmnLZFf"
      }
    },
    {
      "cell_type": "code",
      "source": [
        "model.compile(\n",
        "    optimizer=tf.keras.optimizers.Adam(0.001),\n",
        "    loss=tf.keras.losses.SparseCategoricalCrossentropy(from_logits=True),\n",
        "    metrics=[tf.keras.metrics.SparseCategoricalAccuracy()],\n",
        "\n",
        ")"
      ],
      "metadata": {
        "id": "AaWEX-L-5nwS"
      },
      "execution_count": 96,
      "outputs": []
    },
    {
      "cell_type": "markdown",
      "source": [
        "**Evaluating a trained neural network**"
      ],
      "metadata": {
        "id": "CSFbvVs0Li29"
      }
    },
    {
      "cell_type": "code",
      "source": [
        "multiclass_classifier = model.fit(ds_train, epochs=20, validation_data=ds_test)"
      ],
      "metadata": {
        "colab": {
          "base_uri": "https://localhost:8080/"
        },
        "id": "tIcn-o95BXyp",
        "outputId": "071acc59-c406-4ac8-aed3-bf0f8f76c6c9"
      },
      "execution_count": 97,
      "outputs": [
        {
          "output_type": "stream",
          "name": "stdout",
          "text": [
            "Epoch 1/20\n",
            "469/469 [==============================] - 14s 17ms/step - loss: 0.5444 - sparse_categorical_accuracy: 0.8558 - val_loss: 0.2518 - val_sparse_categorical_accuracy: 0.9278\n",
            "Epoch 2/20\n",
            "469/469 [==============================] - 6s 13ms/step - loss: 0.2222 - sparse_categorical_accuracy: 0.9350 - val_loss: 0.1798 - val_sparse_categorical_accuracy: 0.9463\n",
            "Epoch 3/20\n",
            "469/469 [==============================] - 8s 17ms/step - loss: 0.1647 - sparse_categorical_accuracy: 0.9505 - val_loss: 0.1677 - val_sparse_categorical_accuracy: 0.9470\n",
            "Epoch 4/20\n",
            "469/469 [==============================] - 6s 13ms/step - loss: 0.1265 - sparse_categorical_accuracy: 0.9629 - val_loss: 0.1242 - val_sparse_categorical_accuracy: 0.9622\n",
            "Epoch 5/20\n",
            "469/469 [==============================] - 7s 14ms/step - loss: 0.0997 - sparse_categorical_accuracy: 0.9707 - val_loss: 0.1000 - val_sparse_categorical_accuracy: 0.9690\n",
            "Epoch 6/20\n",
            "469/469 [==============================] - 7s 15ms/step - loss: 0.0798 - sparse_categorical_accuracy: 0.9765 - val_loss: 0.0881 - val_sparse_categorical_accuracy: 0.9724\n",
            "Epoch 7/20\n",
            "469/469 [==============================] - 6s 12ms/step - loss: 0.0647 - sparse_categorical_accuracy: 0.9808 - val_loss: 0.0808 - val_sparse_categorical_accuracy: 0.9740\n",
            "Epoch 8/20\n",
            "469/469 [==============================] - 7s 15ms/step - loss: 0.0524 - sparse_categorical_accuracy: 0.9846 - val_loss: 0.0746 - val_sparse_categorical_accuracy: 0.9770\n",
            "Epoch 9/20\n",
            "469/469 [==============================] - 7s 15ms/step - loss: 0.0432 - sparse_categorical_accuracy: 0.9870 - val_loss: 0.0731 - val_sparse_categorical_accuracy: 0.9769\n",
            "Epoch 10/20\n",
            "469/469 [==============================] - 6s 12ms/step - loss: 0.0351 - sparse_categorical_accuracy: 0.9899 - val_loss: 0.0665 - val_sparse_categorical_accuracy: 0.9803\n",
            "Epoch 11/20\n",
            "469/469 [==============================] - 7s 14ms/step - loss: 0.0275 - sparse_categorical_accuracy: 0.9925 - val_loss: 0.0626 - val_sparse_categorical_accuracy: 0.9810\n",
            "Epoch 12/20\n",
            "469/469 [==============================] - 7s 15ms/step - loss: 0.0226 - sparse_categorical_accuracy: 0.9938 - val_loss: 0.0671 - val_sparse_categorical_accuracy: 0.9789\n",
            "Epoch 13/20\n",
            "469/469 [==============================] - 6s 12ms/step - loss: 0.0182 - sparse_categorical_accuracy: 0.9954 - val_loss: 0.0714 - val_sparse_categorical_accuracy: 0.9781\n",
            "Epoch 14/20\n",
            "469/469 [==============================] - 7s 14ms/step - loss: 0.0147 - sparse_categorical_accuracy: 0.9964 - val_loss: 0.0705 - val_sparse_categorical_accuracy: 0.9792\n",
            "Epoch 15/20\n",
            "469/469 [==============================] - 6s 12ms/step - loss: 0.0120 - sparse_categorical_accuracy: 0.9970 - val_loss: 0.0621 - val_sparse_categorical_accuracy: 0.9809\n",
            "Epoch 16/20\n",
            "469/469 [==============================] - 6s 13ms/step - loss: 0.0096 - sparse_categorical_accuracy: 0.9980 - val_loss: 0.0641 - val_sparse_categorical_accuracy: 0.9805\n",
            "Epoch 17/20\n",
            "469/469 [==============================] - 6s 12ms/step - loss: 0.0070 - sparse_categorical_accuracy: 0.9987 - val_loss: 0.0623 - val_sparse_categorical_accuracy: 0.9823\n",
            "Epoch 18/20\n",
            "469/469 [==============================] - 7s 14ms/step - loss: 0.0058 - sparse_categorical_accuracy: 0.9989 - val_loss: 0.0663 - val_sparse_categorical_accuracy: 0.9818\n",
            "Epoch 19/20\n",
            "469/469 [==============================] - 7s 15ms/step - loss: 0.0051 - sparse_categorical_accuracy: 0.9990 - val_loss: 0.0671 - val_sparse_categorical_accuracy: 0.9810\n",
            "Epoch 20/20\n",
            "469/469 [==============================] - 6s 12ms/step - loss: 0.0046 - sparse_categorical_accuracy: 0.9990 - val_loss: 0.0762 - val_sparse_categorical_accuracy: 0.9805\n"
          ]
        }
      ]
    },
    {
      "cell_type": "code",
      "source": [
        "score = model.evaluate(ds_test,verbose=0)\n",
        "print('Test loss',score[0])\n",
        "print('Test Accuracy',score[1])\n"
      ],
      "metadata": {
        "colab": {
          "base_uri": "https://localhost:8080/"
        },
        "id": "x2K3_gD3FiZc",
        "outputId": "2191daa5-6f19-4964-8949-e14c02448ca8"
      },
      "execution_count": 99,
      "outputs": [
        {
          "output_type": "stream",
          "name": "stdout",
          "text": [
            "Test loss 0.07619353383779526\n",
            "Test Accuracy 0.9804999828338623\n"
          ]
        }
      ]
    },
    {
      "cell_type": "markdown",
      "source": [
        "**Plotting the training accuracy and validation accuracy**"
      ],
      "metadata": {
        "id": "RpQzr_-MLsjz"
      }
    },
    {
      "cell_type": "code",
      "source": [
        "plt.plot(multiclass_classifier.history['sparse_categorical_accuracy'])\n",
        "plt.plot(multiclass_classifier.history['val_sparse_categorical_accuracy'])\n",
        "plt.title('Training and Validation Accuracy')\n",
        "plt.ylabel('Accuracy')\n",
        "plt.xlabel('Epoch')\n",
        "plt.legend(['Train', 'Validation'])\n",
        "plt.grid()\n",
        "plt.show()"
      ],
      "metadata": {
        "colab": {
          "base_uri": "https://localhost:8080/",
          "height": 472
        },
        "id": "p8mXIyGbGiL1",
        "outputId": "8675d561-8396-4396-890a-e7e97e9a5f29"
      },
      "execution_count": 103,
      "outputs": [
        {
          "output_type": "display_data",
          "data": {
            "text/plain": [
              "<Figure size 640x480 with 1 Axes>"
            ],
            "image/png": "[encoded data removed]"
          },
          "metadata": {}
        }
      ]
    },
    {
      "cell_type": "markdown",
      "source": [
        "**Plotting the training loss and validation loss**"
      ],
      "metadata": {
        "id": "T_0OAvUtL2cq"
      }
    },
    {
      "cell_type": "code",
      "source": [
        "plt.plot(multiclass_classifier.history['loss'])\n",
        "plt.plot(multiclass_classifier.history['val_loss'])\n",
        "plt.title('Training and Validation Loss')\n",
        "plt.ylabel('Loss')\n",
        "plt.xlabel('Epoch')\n",
        "plt.legend(['Train', 'Validation'])\n",
        "plt.grid()\n",
        "plt.show"
      ],
      "metadata": {
        "colab": {
          "base_uri": "https://localhost:8080/",
          "height": 641
        },
        "id": "2rZcss8YIFlJ",
        "outputId": "b6fb6f07-edeb-4d88-ef46-fa280b77af64"
      },
      "execution_count": 104,
      "outputs": [
        {
          "output_type": "execute_result",
          "data": {
            "text/plain": [
              "<function matplotlib.pyplot.show(close=None, block=None)>"
            ],
            "text/html": [
              "<div style=\"max-width:800px; border: 1px solid var(--colab-border-color);\"><style>\n",
              "      pre.function-repr-contents {\n",
              "        overflow-x: auto;\n",
              "        padding: 8px 12px;\n",
              "        max-height: 500px;\n",
              "      }\n",
              "\n",
              "      pre.function-repr-contents.function-repr-contents-collapsed {\n",
              "        cursor: pointer;\n",
              "        max-height: 100px;\n",
              "      }\n",
              "    </style>\n",
              "    <pre style=\"white-space: initial; background:\n",
              "         var(--colab-secondary-surface-color); padding: 8px 12px;\n",
              "         border-bottom: 1px solid var(--colab-border-color);\"><b>matplotlib.pyplot.show</b><br/>def show(*args, **kwargs)</pre><pre class=\"function-repr-contents function-repr-contents-collapsed\" style=\"\"><a class=\"filepath\" style=\"display:none\" href=\"#\">/usr/local/lib/python3.10/dist-packages/matplotlib/pyplot.py</a>Display all open figures.\n",
              "\n",
              "Parameters\n",
              "----------\n",
              "block : bool, optional\n",
              "    Whether to wait for all figures to be closed before returning.\n",
              "\n",
              "    If `True` block and run the GUI main loop until all figure windows\n",
              "    are closed.\n",
              "\n",
              "    If `False` ensure that all figure windows are displayed and return\n",
              "    immediately.  In this case, you are responsible for ensuring\n",
              "    that the event loop is running to have responsive figures.\n",
              "\n",
              "    Defaults to True in non-interactive mode and to False in interactive\n",
              "    mode (see `.pyplot.isinteractive`).\n",
              "\n",
              "See Also\n",
              "--------\n",
              "ion : Enable interactive mode, which shows / updates the figure after\n",
              "      every plotting command, so that calling ``show()`` is not necessary.\n",
              "ioff : Disable interactive mode.\n",
              "savefig : Save the figure to an image file instead of showing it on screen.\n",
              "\n",
              "Notes\n",
              "-----\n",
              "**Saving figures to file and showing a window at the same time**\n",
              "\n",
              "If you want an image file as well as a user interface window, use\n",
              "`.pyplot.savefig` before `.pyplot.show`. At the end of (a blocking)\n",
              "``show()`` the figure is closed and thus unregistered from pyplot. Calling\n",
              "`.pyplot.savefig` afterwards would save a new and thus empty figure. This\n",
              "limitation of command order does not apply if the show is non-blocking or\n",
              "if you keep a reference to the figure and use `.Figure.savefig`.\n",
              "\n",
              "**Auto-show in jupyter notebooks**\n",
              "\n",
              "The jupyter backends (activated via ``%matplotlib inline``,\n",
              "``%matplotlib notebook``, or ``%matplotlib widget``), call ``show()`` at\n",
              "the end of every cell by default. Thus, you usually don&#x27;t have to call it\n",
              "explicitly there.</pre>\n",
              "      <script>\n",
              "      if (google.colab.kernel.accessAllowed && google.colab.files && google.colab.files.view) {\n",
              "        for (const element of document.querySelectorAll('.filepath')) {\n",
              "          element.style.display = 'block'\n",
              "          element.onclick = (event) => {\n",
              "            event.preventDefault();\n",
              "            event.stopPropagation();\n",
              "            google.colab.files.view(element.textContent, 401);\n",
              "          };\n",
              "        }\n",
              "      }\n",
              "      for (const element of document.querySelectorAll('.function-repr-contents')) {\n",
              "        element.onclick = (event) => {\n",
              "          event.preventDefault();\n",
              "          event.stopPropagation();\n",
              "          element.classList.toggle('function-repr-contents-collapsed');\n",
              "        };\n",
              "      }\n",
              "      </script>\n",
              "      </div>"
            ]
          },
          "metadata": {},
          "execution_count": 104
        },
        {
          "output_type": "display_data",
          "data": {
            "text/plain": [
              "<Figure size 640x480 with 1 Axes>"
            ],
            "image/png": "[encoded data removed]"
          },
          "metadata": {}
        }
      ]
    },
    {
      "cell_type": "markdown",
      "source": [
        "**Inference or Predictions using a trained neural network  **"
      ],
      "metadata": {
        "id": "suSMx2CuMSoq"
      }
    },
    {
      "cell_type": "code",
      "source": [
        "image_batch,label_batch = next(iter(ds_test))\n",
        "label_batch[:10]"
      ],
      "metadata": {
        "colab": {
          "base_uri": "https://localhost:8080/"
        },
        "id": "osi15UrKIiaB",
        "outputId": "fe2afb48-89aa-4fbd-b1f3-5480548b8892"
      },
      "execution_count": 105,
      "outputs": [
        {
          "output_type": "execute_result",
          "data": {
            "text/plain": [
              "<tf.Tensor: shape=(10,), dtype=int64, numpy=array([2, 0, 4, 8, 7, 6, 0, 6, 3, 1])>"
            ]
          },
          "metadata": {},
          "execution_count": 105
        }
      ]
    },
    {
      "cell_type": "code",
      "source": [
        "y_pred = model.predict(image_batch)\n",
        "y_pred[:10]"
      ],
      "metadata": {
        "colab": {
          "base_uri": "https://localhost:8080/"
        },
        "id": "VDn83U3MI31X",
        "outputId": "bcb8aa66-d4c1-4520-e34a-0fd33d291460"
      },
      "execution_count": 106,
      "outputs": [
        {
          "output_type": "stream",
          "name": "stdout",
          "text": [
            "4/4 [==============================] - 0s 4ms/step\n"
          ]
        },
        {
          "output_type": "execute_result",
          "data": {
            "text/plain": [
              "array([[2.0590303e-10, 5.1230721e-08, 9.9999982e-01, 1.7506308e-08,\n",
              "        2.6516158e-09, 1.1086464e-11, 1.0440476e-09, 1.2662306e-10,\n",
              "        1.1027473e-08, 6.0415589e-11],\n",
              "       [9.9988896e-01, 1.0938654e-07, 7.2186515e-09, 6.6544409e-11,\n",
              "        5.0996514e-09, 3.6882718e-06, 1.0701217e-04, 1.6297490e-07,\n",
              "        1.5770473e-08, 2.4520919e-08],\n",
              "       [4.8188120e-10, 8.2602554e-08, 7.5667972e-10, 4.6509155e-10,\n",
              "        9.9999791e-01, 6.9280198e-10, 1.0508849e-08, 1.4240545e-07,\n",
              "        1.9682496e-08, 1.7576519e-06],\n",
              "       [1.9153992e-09, 1.1786829e-08, 7.8445206e-09, 3.2375951e-08,\n",
              "        1.9343757e-10, 4.0987818e-08, 5.6575615e-09, 6.0011544e-11,\n",
              "        9.9999970e-01, 1.6541564e-07],\n",
              "       [1.5693246e-08, 1.0376960e-07, 2.6942364e-09, 5.5589226e-08,\n",
              "        7.4772633e-09, 4.6809459e-09, 4.5643180e-14, 9.9999624e-01,\n",
              "        3.9049648e-09, 3.5771880e-06],\n",
              "       [9.1912646e-08, 6.4651729e-08, 1.3784195e-08, 1.6656932e-09,\n",
              "        4.0810892e-08, 3.0183222e-05, 9.9996918e-01, 6.1994008e-12,\n",
              "        2.6060960e-07, 1.1644249e-07],\n",
              "       [9.9999768e-01, 2.9980402e-08, 6.6149517e-09, 9.5834722e-11,\n",
              "        2.1417794e-10, 2.9925576e-07, 1.8251724e-06, 1.7032859e-07,\n",
              "        7.6743678e-10, 1.9352338e-08],\n",
              "       [1.5714441e-07, 1.2288405e-07, 1.9867405e-08, 1.0605832e-09,\n",
              "        6.8482990e-08, 1.0264694e-05, 9.9995118e-01, 3.8889829e-11,\n",
              "        3.8142873e-05, 2.9145446e-09],\n",
              "       [4.8176030e-10, 5.9113204e-06, 3.9781932e-07, 9.2649841e-01,\n",
              "        2.0301608e-08, 7.3314987e-02, 3.4850622e-08, 1.8972763e-08,\n",
              "        1.7991617e-04, 2.5898748e-07],\n",
              "       [2.5234876e-09, 9.9999493e-01, 1.3061473e-06, 1.9543342e-09,\n",
              "        2.2986129e-07, 5.6016138e-09, 8.5589653e-07, 7.0823234e-08,\n",
              "        2.5414020e-06, 1.4821864e-09]], dtype=float32)"
            ]
          },
          "metadata": {},
          "execution_count": 106
        }
      ]
    },
    {
      "cell_type": "code",
      "source": [
        "y_pred = np.array([np.argmax(pred)  for pred in y_pred ])\n",
        "y_pred[:10] , label_batch[:10]\n"
      ],
      "metadata": {
        "colab": {
          "base_uri": "https://localhost:8080/"
        },
        "id": "zJdjEPATJY2j",
        "outputId": "3e06493d-0606-4da7-af76-cdf5f245a828"
      },
      "execution_count": 107,
      "outputs": [
        {
          "output_type": "execute_result",
          "data": {
            "text/plain": [
              "(array([2, 0, 4, 8, 7, 6, 0, 6, 3, 1]),\n",
              " <tf.Tensor: shape=(10,), dtype=int64, numpy=array([2, 0, 4, 8, 7, 6, 0, 6, 3, 1])>)"
            ]
          },
          "metadata": {},
          "execution_count": 107
        }
      ]
    }
  ]
}